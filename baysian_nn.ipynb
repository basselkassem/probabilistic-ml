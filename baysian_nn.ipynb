{
  "nbformat": 4,
  "nbformat_minor": 0,
  "metadata": {
    "colab": {
      "name": "baysian-nn.ipynb",
      "provenance": [],
      "collapsed_sections": [],
      "authorship_tag": "ABX9TyPf6rolAzcT0Cy6ZA6mC78R",
      "include_colab_link": true
    },
    "kernelspec": {
      "name": "python3",
      "display_name": "Python 3"
    },
    "accelerator": "TPU"
  },
  "cells": [
    {
      "cell_type": "markdown",
      "metadata": {
        "id": "view-in-github",
        "colab_type": "text"
      },
      "source": [
        "<a href=\"https://colab.research.google.com/github/basselkassem/probabilistic-ml/blob/main/baysian_nn.ipynb\" target=\"_parent\"><img src=\"https://colab.research.google.com/assets/colab-badge.svg\" alt=\"Open In Colab\"/></a>"
      ]
    },
    {
      "cell_type": "code",
      "metadata": {
        "colab": {
          "base_uri": "https://localhost:8080/"
        },
        "id": "gJkt-hnMiR-5",
        "outputId": "ca180dcc-2e65-41ce-bad5-42bc30471dd7"
      },
      "source": [
        "import tensorflow as tf\n",
        "import tensorflow_probability as tfp\n",
        "\n",
        "tfd = tfp.distributions\n",
        "tfpl = tfp.layers\n",
        "print(tf.__version__)\n",
        "print(tfp.__version__)"
      ],
      "execution_count": 1,
      "outputs": [
        {
          "output_type": "stream",
          "text": [
            "2.4.1\n",
            "0.12.1\n"
          ],
          "name": "stdout"
        }
      ]
    },
    {
      "cell_type": "code",
      "metadata": {
        "id": "MGG03iIiqPWu"
      },
      "source": [
        "import numpy as np\n",
        "import matplotlib.pyplot as plt\n",
        "import os"
      ],
      "execution_count": 2,
      "outputs": []
    },
    {
      "cell_type": "markdown",
      "metadata": {
        "id": "CSeMgiRxpLgO"
      },
      "source": [
        "# Prepare TPU"
      ]
    },
    {
      "cell_type": "code",
      "metadata": {
        "colab": {
          "base_uri": "https://localhost:8080/"
        },
        "id": "U_BMjwpRnO8P",
        "outputId": "2774fbee-134c-4148-9dcb-2db3b7eba6a3"
      },
      "source": [
        "try:\n",
        "  tpu_ip = f\"grpc://{os.environ['COLAB_TPU_ADDR']}\"\n",
        "  tpu_cluster = tf.distribute.cluster_resolver.TPUClusterResolver(tpu_ip)\n",
        "  tf.config.experimental_connect_to_cluster(tpu_cluster)\n",
        "  tf.tpu.experimental.initialize_tpu_system(tpu_cluster)\n",
        "  strategy = tf.distribute.TPUStrategy(tpu_cluster)\n",
        "  print('Available TPUs:', strategy.num_replicas_in_sync)\n",
        "except ValueError:\n",
        "  print(ValueError)"
      ],
      "execution_count": 3,
      "outputs": [
        {
          "output_type": "stream",
          "text": [
            "INFO:tensorflow:Initializing the TPU system: grpc://10.101.10.242:8470\n"
          ],
          "name": "stdout"
        },
        {
          "output_type": "stream",
          "text": [
            "INFO:tensorflow:Initializing the TPU system: grpc://10.101.10.242:8470\n"
          ],
          "name": "stderr"
        },
        {
          "output_type": "stream",
          "text": [
            "INFO:tensorflow:Clearing out eager caches\n"
          ],
          "name": "stdout"
        },
        {
          "output_type": "stream",
          "text": [
            "INFO:tensorflow:Clearing out eager caches\n"
          ],
          "name": "stderr"
        },
        {
          "output_type": "stream",
          "text": [
            "INFO:tensorflow:Finished initializing TPU system.\n"
          ],
          "name": "stdout"
        },
        {
          "output_type": "stream",
          "text": [
            "INFO:tensorflow:Finished initializing TPU system.\n"
          ],
          "name": "stderr"
        },
        {
          "output_type": "stream",
          "text": [
            "INFO:tensorflow:Found TPU system:\n"
          ],
          "name": "stdout"
        },
        {
          "output_type": "stream",
          "text": [
            "INFO:tensorflow:Found TPU system:\n"
          ],
          "name": "stderr"
        },
        {
          "output_type": "stream",
          "text": [
            "INFO:tensorflow:*** Num TPU Cores: 8\n"
          ],
          "name": "stdout"
        },
        {
          "output_type": "stream",
          "text": [
            "INFO:tensorflow:*** Num TPU Cores: 8\n"
          ],
          "name": "stderr"
        },
        {
          "output_type": "stream",
          "text": [
            "INFO:tensorflow:*** Num TPU Workers: 1\n"
          ],
          "name": "stdout"
        },
        {
          "output_type": "stream",
          "text": [
            "INFO:tensorflow:*** Num TPU Workers: 1\n"
          ],
          "name": "stderr"
        },
        {
          "output_type": "stream",
          "text": [
            "INFO:tensorflow:*** Num TPU Cores Per Worker: 8\n"
          ],
          "name": "stdout"
        },
        {
          "output_type": "stream",
          "text": [
            "INFO:tensorflow:*** Num TPU Cores Per Worker: 8\n"
          ],
          "name": "stderr"
        },
        {
          "output_type": "stream",
          "text": [
            "INFO:tensorflow:*** Available Device: _DeviceAttributes(/job:localhost/replica:0/task:0/device:CPU:0, CPU, 0, 0)\n"
          ],
          "name": "stdout"
        },
        {
          "output_type": "stream",
          "text": [
            "INFO:tensorflow:*** Available Device: _DeviceAttributes(/job:localhost/replica:0/task:0/device:CPU:0, CPU, 0, 0)\n"
          ],
          "name": "stderr"
        },
        {
          "output_type": "stream",
          "text": [
            "INFO:tensorflow:*** Available Device: _DeviceAttributes(/job:worker/replica:0/task:0/device:CPU:0, CPU, 0, 0)\n"
          ],
          "name": "stdout"
        },
        {
          "output_type": "stream",
          "text": [
            "INFO:tensorflow:*** Available Device: _DeviceAttributes(/job:worker/replica:0/task:0/device:CPU:0, CPU, 0, 0)\n"
          ],
          "name": "stderr"
        },
        {
          "output_type": "stream",
          "text": [
            "INFO:tensorflow:*** Available Device: _DeviceAttributes(/job:worker/replica:0/task:0/device:TPU:0, TPU, 0, 0)\n"
          ],
          "name": "stdout"
        },
        {
          "output_type": "stream",
          "text": [
            "INFO:tensorflow:*** Available Device: _DeviceAttributes(/job:worker/replica:0/task:0/device:TPU:0, TPU, 0, 0)\n"
          ],
          "name": "stderr"
        },
        {
          "output_type": "stream",
          "text": [
            "INFO:tensorflow:*** Available Device: _DeviceAttributes(/job:worker/replica:0/task:0/device:TPU:1, TPU, 0, 0)\n"
          ],
          "name": "stdout"
        },
        {
          "output_type": "stream",
          "text": [
            "INFO:tensorflow:*** Available Device: _DeviceAttributes(/job:worker/replica:0/task:0/device:TPU:1, TPU, 0, 0)\n"
          ],
          "name": "stderr"
        },
        {
          "output_type": "stream",
          "text": [
            "INFO:tensorflow:*** Available Device: _DeviceAttributes(/job:worker/replica:0/task:0/device:TPU:2, TPU, 0, 0)\n"
          ],
          "name": "stdout"
        },
        {
          "output_type": "stream",
          "text": [
            "INFO:tensorflow:*** Available Device: _DeviceAttributes(/job:worker/replica:0/task:0/device:TPU:2, TPU, 0, 0)\n"
          ],
          "name": "stderr"
        },
        {
          "output_type": "stream",
          "text": [
            "INFO:tensorflow:*** Available Device: _DeviceAttributes(/job:worker/replica:0/task:0/device:TPU:3, TPU, 0, 0)\n"
          ],
          "name": "stdout"
        },
        {
          "output_type": "stream",
          "text": [
            "INFO:tensorflow:*** Available Device: _DeviceAttributes(/job:worker/replica:0/task:0/device:TPU:3, TPU, 0, 0)\n"
          ],
          "name": "stderr"
        },
        {
          "output_type": "stream",
          "text": [
            "INFO:tensorflow:*** Available Device: _DeviceAttributes(/job:worker/replica:0/task:0/device:TPU:4, TPU, 0, 0)\n"
          ],
          "name": "stdout"
        },
        {
          "output_type": "stream",
          "text": [
            "INFO:tensorflow:*** Available Device: _DeviceAttributes(/job:worker/replica:0/task:0/device:TPU:4, TPU, 0, 0)\n"
          ],
          "name": "stderr"
        },
        {
          "output_type": "stream",
          "text": [
            "INFO:tensorflow:*** Available Device: _DeviceAttributes(/job:worker/replica:0/task:0/device:TPU:5, TPU, 0, 0)\n"
          ],
          "name": "stdout"
        },
        {
          "output_type": "stream",
          "text": [
            "INFO:tensorflow:*** Available Device: _DeviceAttributes(/job:worker/replica:0/task:0/device:TPU:5, TPU, 0, 0)\n"
          ],
          "name": "stderr"
        },
        {
          "output_type": "stream",
          "text": [
            "INFO:tensorflow:*** Available Device: _DeviceAttributes(/job:worker/replica:0/task:0/device:TPU:6, TPU, 0, 0)\n"
          ],
          "name": "stdout"
        },
        {
          "output_type": "stream",
          "text": [
            "INFO:tensorflow:*** Available Device: _DeviceAttributes(/job:worker/replica:0/task:0/device:TPU:6, TPU, 0, 0)\n"
          ],
          "name": "stderr"
        },
        {
          "output_type": "stream",
          "text": [
            "INFO:tensorflow:*** Available Device: _DeviceAttributes(/job:worker/replica:0/task:0/device:TPU:7, TPU, 0, 0)\n"
          ],
          "name": "stdout"
        },
        {
          "output_type": "stream",
          "text": [
            "INFO:tensorflow:*** Available Device: _DeviceAttributes(/job:worker/replica:0/task:0/device:TPU:7, TPU, 0, 0)\n"
          ],
          "name": "stderr"
        },
        {
          "output_type": "stream",
          "text": [
            "INFO:tensorflow:*** Available Device: _DeviceAttributes(/job:worker/replica:0/task:0/device:TPU_SYSTEM:0, TPU_SYSTEM, 0, 0)\n"
          ],
          "name": "stdout"
        },
        {
          "output_type": "stream",
          "text": [
            "INFO:tensorflow:*** Available Device: _DeviceAttributes(/job:worker/replica:0/task:0/device:TPU_SYSTEM:0, TPU_SYSTEM, 0, 0)\n"
          ],
          "name": "stderr"
        },
        {
          "output_type": "stream",
          "text": [
            "INFO:tensorflow:*** Available Device: _DeviceAttributes(/job:worker/replica:0/task:0/device:XLA_CPU:0, XLA_CPU, 0, 0)\n"
          ],
          "name": "stdout"
        },
        {
          "output_type": "stream",
          "text": [
            "INFO:tensorflow:*** Available Device: _DeviceAttributes(/job:worker/replica:0/task:0/device:XLA_CPU:0, XLA_CPU, 0, 0)\n"
          ],
          "name": "stderr"
        },
        {
          "output_type": "stream",
          "text": [
            "Available TPUs: 8\n"
          ],
          "name": "stdout"
        }
      ]
    },
    {
      "cell_type": "markdown",
      "metadata": {
        "id": "rd0BjmCipcmu"
      },
      "source": [
        "# Load data"
      ]
    },
    {
      "cell_type": "code",
      "metadata": {
        "id": "CheiXqGX3ENM"
      },
      "source": [
        "# !gdown --id 10VhBL5zo4cOA_28trFCu3WtxFBHbj3yV\n",
        "# !gdown --id 11013-Bk-iJjVZ1rPn1TFPut12WNhMu5q\n",
        "# !unzip MNIST_corrupted.zip\n",
        "# !unzip MNIST.zip"
      ],
      "execution_count": 8,
      "outputs": []
    },
    {
      "cell_type": "code",
      "metadata": {
        "id": "TQPnsKU73hlW"
      },
      "source": [
        "corr_X_train = np.load('MNIST_corrupted/x_train.npy') / 255.0\n",
        "corr_y_train = np.load('MNIST_corrupted/y_train.npy')\n",
        "corr_X_test = np.load('MNIST_corrupted/x_test.npy') / 255.0\n",
        "corr_y_test = np.load('MNIST_corrupted/y_test.npy')\n",
        "\n",
        "X_train = np.load('MNIST/x_train.npy') / 255.0\n",
        "y_train = np.load('MNIST/y_train.npy')\n",
        "X_test = np.load('MNIST/x_test.npy') / 255.0\n",
        "y_test = np.load('MNIST/y_test.npy')"
      ],
      "execution_count": 9,
      "outputs": []
    },
    {
      "cell_type": "code",
      "metadata": {
        "colab": {
          "base_uri": "https://localhost:8080/",
          "height": 320
        },
        "id": "P9n8fwAFrmEk",
        "outputId": "93e51697-b33b-408c-b768-47f584951f70"
      },
      "source": [
        "def show_imgs(X, y, elements_num = 12):\n",
        "  plt.figure(figsize=(12, 6))\n",
        "  rand = np.random.randint(0, high = len(X), size=elements_num)\n",
        "  for i, (img, label) in enumerate(zip(X[rand], y[rand])):\n",
        "    plt.subplot(2, 6, i + 1)\n",
        "    plt.imshow(img[:,:,0], cmap = 'gray')\n",
        "    plt.title(label[0])\n",
        "    plt.axis('off')\n",
        "  plt.show()\n",
        "\n",
        "show_imgs(X_train, y_train)"
      ],
      "execution_count": 10,
      "outputs": [
        {
          "output_type": "display_data",
          "data": {
            "image/png": "[encoded data removed]",
            "text/plain": [
              "<Figure size 864x432 with 12 Axes>"
            ]
          },
          "metadata": {
            "tags": [],
            "needs_background": "light"
          }
        }
      ]
    },
    {
      "cell_type": "code",
      "metadata": {
        "colab": {
          "base_uri": "https://localhost:8080/",
          "height": 320
        },
        "id": "AOEjUy31t2oU",
        "outputId": "6e273660-398a-455d-9450-b29c3b1bcb13"
      },
      "source": [
        "\n",
        "show_imgs(corr_X_train, corr_y_train)"
      ],
      "execution_count": 11,
      "outputs": [
        {
          "output_type": "display_data",
          "data": {
            "image/png": "[encoded data removed]",
            "text/plain": [
              "<Figure size 864x432 with 12 Axes>"
            ]
          },
          "metadata": {
            "tags": [],
            "needs_background": "light"
          }
        }
      ]
    },
    {
      "cell_type": "markdown",
      "metadata": {
        "id": "wMbdTBtL6Sht"
      },
      "source": [
        "# Determinstic Model"
      ]
    },
    {
      "cell_type": "code",
      "metadata": {
        "id": "jKHt05dQ6VQQ"
      },
      "source": [
        "def get_model():\n",
        "  model = tf.keras.models.Sequential([\n",
        "    tf.keras.layers.Conv2D(32, 3, padding = 'valid', activation = 'relu', input_shape = (28, 28, 1)),\n",
        "    tf.keras.layers.MaxPooling2D(),\n",
        "    tf.keras.layers.Conv2D(16, 3, padding = 'valid', activation = 'relu'),\n",
        "    tf.keras.layers.Flatten(),\n",
        "    tf.keras.layers.Dense(10, activation = 'softmax'),\n",
        "  ])\n",
        "  model.compile(loss = 'sparse_categorical_crossentropy',\n",
        "                metrics = ['acc'], optimizer = 'adam',\n",
        "                steps_per_execution = 50,\n",
        "                )\n",
        "  return model\n"
      ],
      "execution_count": 13,
      "outputs": []
    },
    {
      "cell_type": "code",
      "metadata": {
        "colab": {
          "base_uri": "https://localhost:8080/"
        },
        "id": "Gp1YPgROBCqX",
        "outputId": "d03254dc-a4d4-4de8-cbb2-8ecede9b6015"
      },
      "source": [
        "with strategy.scope():\n",
        "  deterministic_model = get_model()\n",
        "  deterministic_model.summary()"
      ],
      "execution_count": 14,
      "outputs": [
        {
          "output_type": "stream",
          "text": [
            "Model: \"sequential\"\n",
            "_________________________________________________________________\n",
            "Layer (type)                 Output Shape              Param #   \n",
            "=================================================================\n",
            "conv2d (Conv2D)              (None, 26, 26, 32)        320       \n",
            "_________________________________________________________________\n",
            "max_pooling2d (MaxPooling2D) (None, 13, 13, 32)        0         \n",
            "_________________________________________________________________\n",
            "conv2d_1 (Conv2D)            (None, 11, 11, 16)        4624      \n",
            "_________________________________________________________________\n",
            "flatten (Flatten)            (None, 1936)              0         \n",
            "_________________________________________________________________\n",
            "dense (Dense)                (None, 10)                19370     \n",
            "=================================================================\n",
            "Total params: 24,314\n",
            "Trainable params: 24,314\n",
            "Non-trainable params: 0\n",
            "_________________________________________________________________\n"
          ],
          "name": "stdout"
        }
      ]
    },
    {
      "cell_type": "code",
      "metadata": {
        "colab": {
          "base_uri": "https://localhost:8080/"
        },
        "id": "gKcSmJZbBH0a",
        "outputId": "894de6cb-b696-486b-db02-cc7bbc29e21d"
      },
      "source": [
        "history = deterministic_model.fit(\n",
        "    X_train, y_train, \n",
        "    batch_size = 16 * strategy.num_replicas_in_sync, epochs = 10, \n",
        "    validation_split = 0.15,\n",
        ")"
      ],
      "execution_count": 16,
      "outputs": [
        {
          "output_type": "stream",
          "text": [
            "Epoch 1/10\n",
            "399/399 [==============================] - 10s 25ms/step - loss: 0.3372 - acc: 0.9047 - val_loss: 0.1164 - val_acc: 0.9643\n",
            "Epoch 2/10\n",
            "399/399 [==============================] - 3s 8ms/step - loss: 0.0967 - acc: 0.9713 - val_loss: 0.0810 - val_acc: 0.9746\n",
            "Epoch 3/10\n",
            "399/399 [==============================] - 3s 8ms/step - loss: 0.0693 - acc: 0.9792 - val_loss: 0.0650 - val_acc: 0.9791\n",
            "Epoch 4/10\n",
            "399/399 [==============================] - 3s 8ms/step - loss: 0.0549 - acc: 0.9837 - val_loss: 0.0546 - val_acc: 0.9826\n",
            "Epoch 5/10\n",
            "399/399 [==============================] - 3s 8ms/step - loss: 0.0465 - acc: 0.9862 - val_loss: 0.0565 - val_acc: 0.9829\n",
            "Epoch 6/10\n",
            "399/399 [==============================] - 3s 8ms/step - loss: 0.0397 - acc: 0.9882 - val_loss: 0.0501 - val_acc: 0.9843\n",
            "Epoch 7/10\n",
            "399/399 [==============================] - 3s 8ms/step - loss: 0.0357 - acc: 0.9891 - val_loss: 0.0431 - val_acc: 0.9862\n",
            "Epoch 8/10\n",
            "399/399 [==============================] - 3s 8ms/step - loss: 0.0316 - acc: 0.9902 - val_loss: 0.0424 - val_acc: 0.9874\n",
            "Epoch 9/10\n",
            "399/399 [==============================] - 3s 8ms/step - loss: 0.0270 - acc: 0.9921 - val_loss: 0.0409 - val_acc: 0.9871\n",
            "Epoch 10/10\n",
            "399/399 [==============================] - 3s 8ms/step - loss: 0.0245 - acc: 0.9926 - val_loss: 0.0412 - val_acc: 0.9873\n"
          ],
          "name": "stdout"
        }
      ]
    },
    {
      "cell_type": "code",
      "metadata": {
        "colab": {
          "base_uri": "https://localhost:8080/"
        },
        "id": "S55WZZVkCBE2",
        "outputId": "4f087f6e-1705-47e1-f1e7-e3f981ff91a2"
      },
      "source": [
        "print('Accuracy on MNIST test set: ',\n",
        "      str(deterministic_model.evaluate(X_test, y_test, verbose=False)[1]))\n",
        "print('Accuracy on corrupted MNIST test set: ',\n",
        "      str(deterministic_model.evaluate(corr_X_test, corr_y_test, verbose=False)[1]))"
      ],
      "execution_count": 17,
      "outputs": [
        {
          "output_type": "stream",
          "text": [
            "Accuracy on MNIST test set:  0.9871999621391296\n",
            "Accuracy on corrupted MNIST test set:  0.9727999567985535\n"
          ],
          "name": "stdout"
        }
      ]
    },
    {
      "cell_type": "markdown",
      "metadata": {
        "id": "fk6ufjNdFDkY"
      },
      "source": [
        "# Probabilistic Model"
      ]
    },
    {
      "cell_type": "markdown",
      "metadata": {
        "id": "awg9tkBnFyQt"
      },
      "source": [
        "## Aleatoric Uncertainty"
      ]
    },
    {
      "cell_type": "code",
      "metadata": {
        "id": "8YIwqJlqEIlr"
      },
      "source": [
        "def nll(y_true, y_hat_dist):\n",
        "  return -y_hat_dist.log_prob(y_true)"
      ],
      "execution_count": 18,
      "outputs": []
    },
    {
      "cell_type": "code",
      "metadata": {
        "id": "MgT4bqqMGTx9"
      },
      "source": [
        "def get_aleatoric_model():\n",
        "  model = tf.keras.models.Sequential([\n",
        "    tf.keras.layers.Conv2D(32, 3, padding = 'valid', activation = 'relu', input_shape = (28, 28, 1)),\n",
        "    tf.keras.layers.MaxPooling2D(),\n",
        "    tf.keras.layers.Conv2D(16, 3, padding = 'valid', activation = 'relu'),\n",
        "    tf.keras.layers.Flatten(),\n",
        "    tf.keras.layers.Dense(tfpl.OneHotCategorical.params_size(10),),\n",
        "    tfpl.OneHotCategorical(event_size = 10, convert_to_tensor_fn = tfd.Distribution.mode)\n",
        "  ])\n",
        "  model.compile(loss = nll,\n",
        "                metrics = ['acc'], optimizer = 'adam',\n",
        "                steps_per_execution = 50,\n",
        "                )\n",
        "  return model"
      ],
      "execution_count": 19,
      "outputs": []
    },
    {
      "cell_type": "code",
      "metadata": {
        "colab": {
          "base_uri": "https://localhost:8080/"
        },
        "id": "My9MFNZAHBRW",
        "outputId": "8c7f9835-cfc5-45de-b39a-45cc278fcb4b"
      },
      "source": [
        "with strategy.scope():\n",
        "  aleatoric_model = get_aleatoric_model()\n",
        "  aleatoric_model.summary()"
      ],
      "execution_count": 21,
      "outputs": [
        {
          "output_type": "stream",
          "text": [
            "Model: \"sequential_1\"\n",
            "_________________________________________________________________\n",
            "Layer (type)                 Output Shape              Param #   \n",
            "=================================================================\n",
            "conv2d_2 (Conv2D)            (None, 26, 26, 32)        320       \n",
            "_________________________________________________________________\n",
            "max_pooling2d_1 (MaxPooling2 (None, 13, 13, 32)        0         \n",
            "_________________________________________________________________\n",
            "conv2d_3 (Conv2D)            (None, 11, 11, 16)        4624      \n",
            "_________________________________________________________________\n",
            "flatten_1 (Flatten)          (None, 1936)              0         \n",
            "_________________________________________________________________\n",
            "dense_1 (Dense)              (None, 10)                19370     \n",
            "_________________________________________________________________\n",
            "one_hot_categorical (OneHotC multiple                  0         \n",
            "=================================================================\n",
            "Total params: 24,314\n",
            "Trainable params: 24,314\n",
            "Non-trainable params: 0\n",
            "_________________________________________________________________\n"
          ],
          "name": "stdout"
        }
      ]
    },
    {
      "cell_type": "code",
      "metadata": {
        "colab": {
          "base_uri": "https://localhost:8080/"
        },
        "id": "0JFzYkNXHKSO",
        "outputId": "c87691ab-fa6d-4391-af88-0ec1549bbd8a"
      },
      "source": [
        "history = aleatoric_model.fit(\n",
        "    X_train, tf.keras.utils.to_categorical(y_train),\n",
        "    batch_size = 16 * strategy.num_replicas_in_sync, epochs = 10, \n",
        "    validation_split = 0.15,\n",
        ")"
      ],
      "execution_count": 22,
      "outputs": [
        {
          "output_type": "stream",
          "text": [
            "Epoch 1/10\n",
            "399/399 [==============================] - 12s 30ms/step - loss: 0.5508 - acc: 0.8443 - val_loss: 0.1286 - val_acc: 0.9590\n",
            "Epoch 2/10\n",
            "399/399 [==============================] - 3s 8ms/step - loss: 0.1175 - acc: 0.9667 - val_loss: 0.0854 - val_acc: 0.9718\n",
            "Epoch 3/10\n",
            "399/399 [==============================] - 3s 8ms/step - loss: 0.0773 - acc: 0.9768 - val_loss: 0.0752 - val_acc: 0.9772\n",
            "Epoch 4/10\n",
            "399/399 [==============================] - 3s 8ms/step - loss: 0.0601 - acc: 0.9826 - val_loss: 0.0587 - val_acc: 0.9812\n",
            "Epoch 5/10\n",
            "399/399 [==============================] - 3s 8ms/step - loss: 0.0495 - acc: 0.9856 - val_loss: 0.0506 - val_acc: 0.9841\n",
            "Epoch 6/10\n",
            "399/399 [==============================] - 3s 8ms/step - loss: 0.0391 - acc: 0.9881 - val_loss: 0.0477 - val_acc: 0.9848\n",
            "Epoch 7/10\n",
            "399/399 [==============================] - 3s 8ms/step - loss: 0.0378 - acc: 0.9887 - val_loss: 0.0508 - val_acc: 0.9850\n",
            "Epoch 8/10\n",
            "399/399 [==============================] - 3s 7ms/step - loss: 0.0306 - acc: 0.9910 - val_loss: 0.0481 - val_acc: 0.9866\n",
            "Epoch 9/10\n",
            "399/399 [==============================] - 3s 8ms/step - loss: 0.0274 - acc: 0.9911 - val_loss: 0.0443 - val_acc: 0.9866\n",
            "Epoch 10/10\n",
            "399/399 [==============================] - 3s 7ms/step - loss: 0.0252 - acc: 0.9921 - val_loss: 0.0488 - val_acc: 0.9852\n"
          ],
          "name": "stdout"
        }
      ]
    },
    {
      "cell_type": "code",
      "metadata": {
        "colab": {
          "base_uri": "https://localhost:8080/"
        },
        "id": "XHSeK9FIIVrw",
        "outputId": "ab71d500-244e-4161-97ca-0cb5880c4b10"
      },
      "source": [
        "print('Accuracy on MNIST test set: ',\n",
        "      str(aleatoric_model.evaluate(X_test, tf.keras.utils.to_categorical(y_test), verbose=False)[1]))\n",
        "print('Accuracy on corrupted MNIST test set: ',\n",
        "      str(aleatoric_model.evaluate(corr_X_test, tf.keras.utils.to_categorical(corr_y_test), verbose=False)[1]))"
      ],
      "execution_count": 23,
      "outputs": [
        {
          "output_type": "stream",
          "text": [
            "Accuracy on MNIST test set:  0.9860999584197998\n",
            "Accuracy on corrupted MNIST test set:  0.9670999646186829\n"
          ],
          "name": "stdout"
        }
      ]
    },
    {
      "cell_type": "code",
      "metadata": {
        "colab": {
          "base_uri": "https://localhost:8080/",
          "height": 1000
        },
        "id": "a8_4CQS_JXR3",
        "outputId": "81a738e6-f9fc-4d3c-8232-af9533b868cf"
      },
      "source": [
        "def get_prediction(data, model, image, run_ensemble = False, deter = False):\n",
        "  if run_ensemble:\n",
        "    ensemble_size = 200\n",
        "  else:\n",
        "    ensemble_size = 1\n",
        "  \n",
        "  predicted_probabilities = np.empty(shape=(ensemble_size, 10))\n",
        "  for i in range(ensemble_size):\n",
        "    if deter == True:\n",
        "      predicted_probabilities[i] = model(image[np.newaxis, :]).numpy()[0]\n",
        "    else:\n",
        "      predicted_probabilities[i] = model(image[np.newaxis, :]).mean().numpy()[0]\n",
        "\n",
        "  model_prediction = model(image[np.newaxis, :])\n",
        "  model1_pct_2p5 = np.array([np.percentile(predicted_probabilities[:, i], 2.5) for i in range(10)])\n",
        "  model2_pct_97p5 = np.array([np.percentile(predicted_probabilities[:, i], 97.5) for i in range(10)])\n",
        "  return model1_pct_2p5, model2_pct_97p5\n",
        "\n",
        "\n",
        "def analyse_model_prediction(data, labels, model1, model2,  image_num, run_ensemble=False):\n",
        "    fig, (ax1, ax2, ax3) = plt.subplots(nrows=1, ncols=3, figsize=(16, 2))\n",
        "    true_label = labels[image_num, 0]\n",
        "    image = data[image_num]\n",
        "    model1_pct_2p5, model1_pct_97p5 = get_prediction(data, model1, image, run_ensemble)\n",
        "    model2_pct_2p5, model2_pct_97p5 = get_prediction(data, model2, image, run_ensemble, True)\n",
        "\n",
        "    ax1.imshow(image[..., 0], cmap='gray')\n",
        "    ax1.axis('off')\n",
        "    ax1.set_title('True label: {}'.format(str(true_label)))\n",
        "      \n",
        "    bar = ax2.bar(np.arange(10), model1_pct_97p5, color='red')\n",
        "    bar[int(true_label)].set_color('green')\n",
        "    ax2.bar(np.arange(10), model1_pct_2p5-0.04, color='white', linewidth=1, edgecolor='white')\n",
        "    ax2.set_xticks(np.arange(10))\n",
        "    ax2.set_ylim([0, 1.1])\n",
        "    ax2.set_ylabel('Probability')\n",
        "    ax2.set_title('Probabilictic Model estimated probabilities')\n",
        "\n",
        "    bar = ax3.bar(np.arange(10), model2_pct_97p5, color='red')\n",
        "    bar[int(true_label)].set_color('green')\n",
        "    ax3.bar(np.arange(10), model2_pct_2p5-0.04, color='white', linewidth=1, edgecolor='white')\n",
        "    ax3.set_xticks(np.arange(10))\n",
        "    ax3.set_ylim([0, 1.1])\n",
        "    ax3.set_ylabel('Probability')\n",
        "    ax3.set_title('Deterministic Model estimated probabilities')\n",
        "    plt.show()\n",
        "\n",
        "y_hat = np.argmax(aleatoric_model(corr_X_test).mean().numpy(), axis=-1)\n",
        "miss_cls = np.where(corr_y_test.reshape(-1, ) != y_hat)[0]\n",
        "for i in miss_cls[0:7]:\n",
        "    analyse_model_prediction(corr_X_test, corr_y_test, aleatoric_model, deterministic_model, i)"
      ],
      "execution_count": 25,
      "outputs": [
        {
          "output_type": "display_data",
          "data": {
            "image/png": "[encoded data removed]",
            "text/plain": [
              "<Figure size 1152x144 with 3 Axes>"
            ]
          },
          "metadata": {
            "tags": [],
            "needs_background": "light"
          }
        },
        {
          "output_type": "display_data",
          "data": {
            "image/png": "[encoded data removed]",
            "text/plain": [
              "<Figure size 1152x144 with 3 Axes>"
            ]
          },
          "metadata": {
            "tags": [],
            "needs_background": "light"
          }
        },
        {
          "output_type": "display_data",
          "data": {
            "image/png": "[encoded data removed]",
            "text/plain": [
              "<Figure size 1152x144 with 3 Axes>"
            ]
          },
          "metadata": {
            "tags": [],
            "needs_background": "light"
          }
        },
        {
          "output_type": "display_data",
          "data": {
            "image/png": "[encoded data removed]",
            "text/plain": [
              "<Figure size 1152x144 with 3 Axes>"
            ]
          },
          "metadata": {
            "tags": [],
            "needs_background": "light"
          }
        },
        {
          "output_type": "display_data",
          "data": {
            "image/png": "[encoded data removed]",
            "text/plain": [
              "<Figure size 1152x144 with 3 Axes>"
            ]
          },
          "metadata": {
            "tags": [],
            "needs_background": "light"
          }
        },
        {
          "output_type": "display_data",
          "data": {
            "image/png": "[encoded data removed]",
            "text/plain": [
              "<Figure size 1152x144 with 3 Axes>"
            ]
          },
          "metadata": {
            "tags": [],
            "needs_background": "light"
          }
        },
        {
          "output_type": "display_data",
          "data": {
            "image/png": "[encoded data removed]",
            "text/plain": [
              "<Figure size 1152x144 with 3 Axes>"
            ]
          },
          "metadata": {
            "tags": [],
            "needs_background": "light"
          }
        }
      ]
    },
    {
      "cell_type": "code",
      "metadata": {
        "id": "SRzuSmGJfmnZ"
      },
      "source": [
        "def get_correct_indices(model, x, labels):\n",
        "    y_model = model(x)\n",
        "    correct = np.argmax(y_model.mean(), axis=1) == np.squeeze(labels)\n",
        "    correct_indices = [i for i in range(x.shape[0]) if correct[i]]\n",
        "    incorrect_indices = [i for i in range(x.shape[0]) if not correct[i]]\n",
        "    return correct_indices, incorrect_indices\n",
        "\n",
        "\n",
        "def plot_entropy_distribution(model, x, labels):\n",
        "    probs = model(x).mean().numpy()\n",
        "    entropy = -np.sum(probs * np.log2(probs), axis=1)\n",
        "    print(entropy.shape)\n",
        "    fig, axes = plt.subplots(1, 2, figsize=(10, 4))\n",
        "    for i, category in zip(range(2), ['Correct', 'Incorrect']):\n",
        "        entropy_category = entropy[get_correct_indices(model, x, labels)[i]]\n",
        "        mean_entropy = np.mean(entropy_category)\n",
        "        num_samples = entropy_category.shape[0]\n",
        "        title = category + 'ly labelled ({:.1f}% of total)'.format(num_samples / x.shape[0] * 100)\n",
        "        axes[i].hist(entropy_category, weights=(1/num_samples)*np.ones(num_samples))\n",
        "        axes[i].annotate('Mean: {:.3f} bits'.format(mean_entropy), (0.4, 0.9), ha='center')\n",
        "        axes[i].set_xlabel('Entropy (bits)')\n",
        "        axes[i].set_ylim([0, 1])\n",
        "        axes[i].set_ylabel('Probability')\n",
        "        axes[i].set_title(title)\n",
        "    plt.show()"
      ],
      "execution_count": 31,
      "outputs": []
    },
    {
      "cell_type": "code",
      "metadata": {
        "colab": {
          "base_uri": "https://localhost:8080/",
          "height": 346
        },
        "id": "8XJxlozEAOFM",
        "outputId": "77c19187-7e4e-44da-b196-f9be65f330bb"
      },
      "source": [
        "# Entropy plots for the MNIST dataset\n",
        "\n",
        "print('MNIST test set:')\n",
        "plot_entropy_distribution(aleatoric_model, X_test, y_test)"
      ],
      "execution_count": 32,
      "outputs": [
        {
          "output_type": "stream",
          "text": [
            "MNIST test set:\n",
            "(10000, 10)\n",
            "(10000,)\n"
          ],
          "name": "stdout"
        },
        {
          "output_type": "display_data",
          "data": {
            "image/png": "[encoded data removed]",
            "text/plain": [
              "<Figure size 720x288 with 2 Axes>"
            ]
          },
          "metadata": {
            "tags": [],
            "needs_background": "light"
          }
        }
      ]
    },
    {
      "cell_type": "code",
      "metadata": {
        "colab": {
          "base_uri": "https://localhost:8080/",
          "height": 312
        },
        "id": "dvo32wS0AsfN",
        "outputId": "237b17e4-3e33-4275-e7d0-cc900b9952da"
      },
      "source": [
        "# Entropy plots for the MNIST-C dataset\n",
        "\n",
        "print('Corrupted MNIST test set:')\n",
        "plot_entropy_distribution(aleatoric_model, corr_X_test, corr_y_test)"
      ],
      "execution_count": 28,
      "outputs": [
        {
          "output_type": "stream",
          "text": [
            "Corrupted MNIST test set:\n"
          ],
          "name": "stdout"
        },
        {
          "output_type": "display_data",
          "data": {
            "image/png": "[encoded data removed]",
            "text/plain": [
              "<Figure size 720x288 with 2 Axes>"
            ]
          },
          "metadata": {
            "tags": [],
            "needs_background": "light"
          }
        }
      ]
    },
    {
      "cell_type": "code",
      "metadata": {
        "id": "dom5-xHKA2ht"
      },
      "source": [
        ""
      ],
      "execution_count": null,
      "outputs": []
    }
  ]
}