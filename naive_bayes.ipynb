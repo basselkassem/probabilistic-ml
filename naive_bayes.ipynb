{
  "nbformat": 4,
  "nbformat_minor": 0,
  "metadata": {
    "colab": {
      "name": "naive-bayes.ipynb",
      "provenance": [],
      "collapsed_sections": [],
      "authorship_tag": "ABX9TyN+q1cACzex8RyKacfY/OdZ",
      "include_colab_link": true
    },
    "kernelspec": {
      "name": "python3",
      "display_name": "Python 3"
    },
    "widgets": {
      "application/vnd.jupyter.widget-state+json": {
        "73c3cfe201b14c159fda4f20c82b96f5": {
          "model_module": "@jupyter-widgets/controls",
          "model_name": "HBoxModel",
          "state": {
            "_view_name": "HBoxView",
            "_dom_classes": [],
            "_model_name": "HBoxModel",
            "_view_module": "@jupyter-widgets/controls",
            "_model_module_version": "1.5.0",
            "_view_count": null,
            "_view_module_version": "1.5.0",
            "box_style": "",
            "layout": "IPY_MODEL_150b6c0cdce4456f8047c7272503def8",
            "_model_module": "@jupyter-widgets/controls",
            "children": [
              "IPY_MODEL_640a116b1f7542d0b3beb863703b4923",
              "IPY_MODEL_6bbe8e605271473d9e2a4eb14db9f0a2"
            ]
          }
        },
        "150b6c0cdce4456f8047c7272503def8": {
          "model_module": "@jupyter-widgets/base",
          "model_name": "LayoutModel",
          "state": {
            "_view_name": "LayoutView",
            "grid_template_rows": null,
            "right": null,
            "justify_content": null,
            "_view_module": "@jupyter-widgets/base",
            "overflow": null,
            "_model_module_version": "1.2.0",
            "_view_count": null,
            "flex_flow": null,
            "width": null,
            "min_width": null,
            "border": null,
            "align_items": null,
            "bottom": null,
            "_model_module": "@jupyter-widgets/base",
            "top": null,
            "grid_column": null,
            "overflow_y": null,
            "overflow_x": null,
            "grid_auto_flow": null,
            "grid_area": null,
            "grid_template_columns": null,
            "flex": null,
            "_model_name": "LayoutModel",
            "justify_items": null,
            "grid_row": null,
            "max_height": null,
            "align_content": null,
            "visibility": null,
            "align_self": null,
            "height": null,
            "min_height": null,
            "padding": null,
            "grid_auto_rows": null,
            "grid_gap": null,
            "max_width": null,
            "order": null,
            "_view_module_version": "1.2.0",
            "grid_template_areas": null,
            "object_position": null,
            "object_fit": null,
            "grid_auto_columns": null,
            "margin": null,
            "display": null,
            "left": null
          }
        },
        "640a116b1f7542d0b3beb863703b4923": {
          "model_module": "@jupyter-widgets/controls",
          "model_name": "FloatProgressModel",
          "state": {
            "_view_name": "ProgressView",
            "style": "IPY_MODEL_e0345d6d5534405aae6bb59f9122b730",
            "_dom_classes": [],
            "description": "Dl Completed...: 100%",
            "_model_name": "FloatProgressModel",
            "bar_style": "success",
            "max": 1,
            "_view_module": "@jupyter-widgets/controls",
            "_model_module_version": "1.5.0",
            "value": 1,
            "_view_count": null,
            "_view_module_version": "1.5.0",
            "orientation": "horizontal",
            "min": 0,
            "description_tooltip": null,
            "_model_module": "@jupyter-widgets/controls",
            "layout": "IPY_MODEL_7a27ace319c54e74b62bcddadd5f4b54"
          }
        },
        "6bbe8e605271473d9e2a4eb14db9f0a2": {
          "model_module": "@jupyter-widgets/controls",
          "model_name": "HTMLModel",
          "state": {
            "_view_name": "HTMLView",
            "style": "IPY_MODEL_f1b6fb8941a542058e8de15904bada9c",
            "_dom_classes": [],
            "description": "",
            "_model_name": "HTMLModel",
            "placeholder": "​",
            "_view_module": "@jupyter-widgets/controls",
            "_model_module_version": "1.5.0",
            "value": " 1/1 [00:02&lt;00:00,  2.33s/ url]",
            "_view_count": null,
            "_view_module_version": "1.5.0",
            "description_tooltip": null,
            "_model_module": "@jupyter-widgets/controls",
            "layout": "IPY_MODEL_0649ac99c6e84e64aea1486e155fb470"
          }
        },
        "e0345d6d5534405aae6bb59f9122b730": {
          "model_module": "@jupyter-widgets/controls",
          "model_name": "ProgressStyleModel",
          "state": {
            "_view_name": "StyleView",
            "_model_name": "ProgressStyleModel",
            "description_width": "initial",
            "_view_module": "@jupyter-widgets/base",
            "_model_module_version": "1.5.0",
            "_view_count": null,
            "_view_module_version": "1.2.0",
            "bar_color": null,
            "_model_module": "@jupyter-widgets/controls"
          }
        },
        "7a27ace319c54e74b62bcddadd5f4b54": {
          "model_module": "@jupyter-widgets/base",
          "model_name": "LayoutModel",
          "state": {
            "_view_name": "LayoutView",
            "grid_template_rows": null,
            "right": null,
            "justify_content": null,
            "_view_module": "@jupyter-widgets/base",
            "overflow": null,
            "_model_module_version": "1.2.0",
            "_view_count": null,
            "flex_flow": null,
            "width": null,
            "min_width": null,
            "border": null,
            "align_items": null,
            "bottom": null,
            "_model_module": "@jupyter-widgets/base",
            "top": null,
            "grid_column": null,
            "overflow_y": null,
            "overflow_x": null,
            "grid_auto_flow": null,
            "grid_area": null,
            "grid_template_columns": null,
            "flex": null,
            "_model_name": "LayoutModel",
            "justify_items": null,
            "grid_row": null,
            "max_height": null,
            "align_content": null,
            "visibility": null,
            "align_self": null,
            "height": null,
            "min_height": null,
            "padding": null,
            "grid_auto_rows": null,
            "grid_gap": null,
            "max_width": null,
            "order": null,
            "_view_module_version": "1.2.0",
            "grid_template_areas": null,
            "object_position": null,
            "object_fit": null,
            "grid_auto_columns": null,
            "margin": null,
            "display": null,
            "left": null
          }
        },
        "f1b6fb8941a542058e8de15904bada9c": {
          "model_module": "@jupyter-widgets/controls",
          "model_name": "DescriptionStyleModel",
          "state": {
            "_view_name": "StyleView",
            "_model_name": "DescriptionStyleModel",
            "description_width": "",
            "_view_module": "@jupyter-widgets/base",
            "_model_module_version": "1.5.0",
            "_view_count": null,
            "_view_module_version": "1.2.0",
            "_model_module": "@jupyter-widgets/controls"
          }
        },
        "0649ac99c6e84e64aea1486e155fb470": {
          "model_module": "@jupyter-widgets/base",
          "model_name": "LayoutModel",
          "state": {
            "_view_name": "LayoutView",
            "grid_template_rows": null,
            "right": null,
            "justify_content": null,
            "_view_module": "@jupyter-widgets/base",
            "overflow": null,
            "_model_module_version": "1.2.0",
            "_view_count": null,
            "flex_flow": null,
            "width": null,
            "min_width": null,
            "border": null,
            "align_items": null,
            "bottom": null,
            "_model_module": "@jupyter-widgets/base",
            "top": null,
            "grid_column": null,
            "overflow_y": null,
            "overflow_x": null,
            "grid_auto_flow": null,
            "grid_area": null,
            "grid_template_columns": null,
            "flex": null,
            "_model_name": "LayoutModel",
            "justify_items": null,
            "grid_row": null,
            "max_height": null,
            "align_content": null,
            "visibility": null,
            "align_self": null,
            "height": null,
            "min_height": null,
            "padding": null,
            "grid_auto_rows": null,
            "grid_gap": null,
            "max_width": null,
            "order": null,
            "_view_module_version": "1.2.0",
            "grid_template_areas": null,
            "object_position": null,
            "object_fit": null,
            "grid_auto_columns": null,
            "margin": null,
            "display": null,
            "left": null
          }
        },
        "e243ee51bdd448909fa5e4025094587f": {
          "model_module": "@jupyter-widgets/controls",
          "model_name": "HBoxModel",
          "state": {
            "_view_name": "HBoxView",
            "_dom_classes": [],
            "_model_name": "HBoxModel",
            "_view_module": "@jupyter-widgets/controls",
            "_model_module_version": "1.5.0",
            "_view_count": null,
            "_view_module_version": "1.5.0",
            "box_style": "",
            "layout": "IPY_MODEL_6f4bc4310e3e4e278fc86ca9350e937f",
            "_model_module": "@jupyter-widgets/controls",
            "children": [
              "IPY_MODEL_def708db1e9d4af28f586f6119bd91fd",
              "IPY_MODEL_1245c196c7ff4470a088db2dbaac63ed"
            ]
          }
        },
        "6f4bc4310e3e4e278fc86ca9350e937f": {
          "model_module": "@jupyter-widgets/base",
          "model_name": "LayoutModel",
          "state": {
            "_view_name": "LayoutView",
            "grid_template_rows": null,
            "right": null,
            "justify_content": null,
            "_view_module": "@jupyter-widgets/base",
            "overflow": null,
            "_model_module_version": "1.2.0",
            "_view_count": null,
            "flex_flow": null,
            "width": null,
            "min_width": null,
            "border": null,
            "align_items": null,
            "bottom": null,
            "_model_module": "@jupyter-widgets/base",
            "top": null,
            "grid_column": null,
            "overflow_y": null,
            "overflow_x": null,
            "grid_auto_flow": null,
            "grid_area": null,
            "grid_template_columns": null,
            "flex": null,
            "_model_name": "LayoutModel",
            "justify_items": null,
            "grid_row": null,
            "max_height": null,
            "align_content": null,
            "visibility": null,
            "align_self": null,
            "height": null,
            "min_height": null,
            "padding": null,
            "grid_auto_rows": null,
            "grid_gap": null,
            "max_width": null,
            "order": null,
            "_view_module_version": "1.2.0",
            "grid_template_areas": null,
            "object_position": null,
            "object_fit": null,
            "grid_auto_columns": null,
            "margin": null,
            "display": null,
            "left": null
          }
        },
        "def708db1e9d4af28f586f6119bd91fd": {
          "model_module": "@jupyter-widgets/controls",
          "model_name": "FloatProgressModel",
          "state": {
            "_view_name": "ProgressView",
            "style": "IPY_MODEL_a8df0c8e70df44199ceaa212fe8a66cf",
            "_dom_classes": [],
            "description": "Dl Size...: ",
            "_model_name": "FloatProgressModel",
            "bar_style": "success",
            "max": 1,
            "_view_module": "@jupyter-widgets/controls",
            "_model_module_version": "1.5.0",
            "value": 0,
            "_view_count": null,
            "_view_module_version": "1.5.0",
            "orientation": "horizontal",
            "min": 0,
            "description_tooltip": null,
            "_model_module": "@jupyter-widgets/controls",
            "layout": "IPY_MODEL_5fc1581813f441fb8289a63742512596"
          }
        },
        "1245c196c7ff4470a088db2dbaac63ed": {
          "model_module": "@jupyter-widgets/controls",
          "model_name": "HTMLModel",
          "state": {
            "_view_name": "HTMLView",
            "style": "IPY_MODEL_d285d08c1ae747fc8b3a4bc76e4e898c",
            "_dom_classes": [],
            "description": "",
            "_model_name": "HTMLModel",
            "placeholder": "​",
            "_view_module": "@jupyter-widgets/controls",
            "_model_module_version": "1.5.0",
            "value": " 0/0 [00:02&lt;?, ? MiB/s]",
            "_view_count": null,
            "_view_module_version": "1.5.0",
            "description_tooltip": null,
            "_model_module": "@jupyter-widgets/controls",
            "layout": "IPY_MODEL_87bc02fc163b44a89aac5d094960da7c"
          }
        },
        "a8df0c8e70df44199ceaa212fe8a66cf": {
          "model_module": "@jupyter-widgets/controls",
          "model_name": "ProgressStyleModel",
          "state": {
            "_view_name": "StyleView",
            "_model_name": "ProgressStyleModel",
            "description_width": "initial",
            "_view_module": "@jupyter-widgets/base",
            "_model_module_version": "1.5.0",
            "_view_count": null,
            "_view_module_version": "1.2.0",
            "bar_color": null,
            "_model_module": "@jupyter-widgets/controls"
          }
        },
        "5fc1581813f441fb8289a63742512596": {
          "model_module": "@jupyter-widgets/base",
          "model_name": "LayoutModel",
          "state": {
            "_view_name": "LayoutView",
            "grid_template_rows": null,
            "right": null,
            "justify_content": null,
            "_view_module": "@jupyter-widgets/base",
            "overflow": null,
            "_model_module_version": "1.2.0",
            "_view_count": null,
            "flex_flow": null,
            "width": null,
            "min_width": null,
            "border": null,
            "align_items": null,
            "bottom": null,
            "_model_module": "@jupyter-widgets/base",
            "top": null,
            "grid_column": null,
            "overflow_y": null,
            "overflow_x": null,
            "grid_auto_flow": null,
            "grid_area": null,
            "grid_template_columns": null,
            "flex": null,
            "_model_name": "LayoutModel",
            "justify_items": null,
            "grid_row": null,
            "max_height": null,
            "align_content": null,
            "visibility": null,
            "align_self": null,
            "height": null,
            "min_height": null,
            "padding": null,
            "grid_auto_rows": null,
            "grid_gap": null,
            "max_width": null,
            "order": null,
            "_view_module_version": "1.2.0",
            "grid_template_areas": null,
            "object_position": null,
            "object_fit": null,
            "grid_auto_columns": null,
            "margin": null,
            "display": null,
            "left": null
          }
        },
        "d285d08c1ae747fc8b3a4bc76e4e898c": {
          "model_module": "@jupyter-widgets/controls",
          "model_name": "DescriptionStyleModel",
          "state": {
            "_view_name": "StyleView",
            "_model_name": "DescriptionStyleModel",
            "description_width": "",
            "_view_module": "@jupyter-widgets/base",
            "_model_module_version": "1.5.0",
            "_view_count": null,
            "_view_module_version": "1.2.0",
            "_model_module": "@jupyter-widgets/controls"
          }
        },
        "87bc02fc163b44a89aac5d094960da7c": {
          "model_module": "@jupyter-widgets/base",
          "model_name": "LayoutModel",
          "state": {
            "_view_name": "LayoutView",
            "grid_template_rows": null,
            "right": null,
            "justify_content": null,
            "_view_module": "@jupyter-widgets/base",
            "overflow": null,
            "_model_module_version": "1.2.0",
            "_view_count": null,
            "flex_flow": null,
            "width": null,
            "min_width": null,
            "border": null,
            "align_items": null,
            "bottom": null,
            "_model_module": "@jupyter-widgets/base",
            "top": null,
            "grid_column": null,
            "overflow_y": null,
            "overflow_x": null,
            "grid_auto_flow": null,
            "grid_area": null,
            "grid_template_columns": null,
            "flex": null,
            "_model_name": "LayoutModel",
            "justify_items": null,
            "grid_row": null,
            "max_height": null,
            "align_content": null,
            "visibility": null,
            "align_self": null,
            "height": null,
            "min_height": null,
            "padding": null,
            "grid_auto_rows": null,
            "grid_gap": null,
            "max_width": null,
            "order": null,
            "_view_module_version": "1.2.0",
            "grid_template_areas": null,
            "object_position": null,
            "object_fit": null,
            "grid_auto_columns": null,
            "margin": null,
            "display": null,
            "left": null
          }
        },
        "fdc5c72aaa0f4dc0ad74876fc50c3201": {
          "model_module": "@jupyter-widgets/controls",
          "model_name": "HBoxModel",
          "state": {
            "_view_name": "HBoxView",
            "_dom_classes": [],
            "_model_name": "HBoxModel",
            "_view_module": "@jupyter-widgets/controls",
            "_model_module_version": "1.5.0",
            "_view_count": null,
            "_view_module_version": "1.5.0",
            "box_style": "",
            "layout": "IPY_MODEL_5f04c600eff546fc9570f4f70adee74e",
            "_model_module": "@jupyter-widgets/controls",
            "children": [
              "IPY_MODEL_419f21adc5754ccca2498bdac77d7a7b",
              "IPY_MODEL_3df92a107a49405ea52ff1701afc2857"
            ]
          }
        },
        "5f04c600eff546fc9570f4f70adee74e": {
          "model_module": "@jupyter-widgets/base",
          "model_name": "LayoutModel",
          "state": {
            "_view_name": "LayoutView",
            "grid_template_rows": null,
            "right": null,
            "justify_content": null,
            "_view_module": "@jupyter-widgets/base",
            "overflow": null,
            "_model_module_version": "1.2.0",
            "_view_count": null,
            "flex_flow": null,
            "width": null,
            "min_width": null,
            "border": null,
            "align_items": null,
            "bottom": null,
            "_model_module": "@jupyter-widgets/base",
            "top": null,
            "grid_column": null,
            "overflow_y": null,
            "overflow_x": null,
            "grid_auto_flow": null,
            "grid_area": null,
            "grid_template_columns": null,
            "flex": null,
            "_model_name": "LayoutModel",
            "justify_items": null,
            "grid_row": null,
            "max_height": null,
            "align_content": null,
            "visibility": null,
            "align_self": null,
            "height": null,
            "min_height": null,
            "padding": null,
            "grid_auto_rows": null,
            "grid_gap": null,
            "max_width": null,
            "order": null,
            "_view_module_version": "1.2.0",
            "grid_template_areas": null,
            "object_position": null,
            "object_fit": null,
            "grid_auto_columns": null,
            "margin": null,
            "display": null,
            "left": null
          }
        },
        "419f21adc5754ccca2498bdac77d7a7b": {
          "model_module": "@jupyter-widgets/controls",
          "model_name": "FloatProgressModel",
          "state": {
            "_view_name": "ProgressView",
            "style": "IPY_MODEL_45d87e11440746aab0e8ad82ead59986",
            "_dom_classes": [],
            "description": "",
            "_model_name": "FloatProgressModel",
            "bar_style": "info",
            "max": 1,
            "_view_module": "@jupyter-widgets/controls",
            "_model_module_version": "1.5.0",
            "value": 1,
            "_view_count": null,
            "_view_module_version": "1.5.0",
            "orientation": "horizontal",
            "min": 0,
            "description_tooltip": null,
            "_model_module": "@jupyter-widgets/controls",
            "layout": "IPY_MODEL_25a21fff7103425883da633a5c422a49"
          }
        },
        "3df92a107a49405ea52ff1701afc2857": {
          "model_module": "@jupyter-widgets/controls",
          "model_name": "HTMLModel",
          "state": {
            "_view_name": "HTMLView",
            "style": "IPY_MODEL_ed4b88156a854624b10be64df21b1aa4",
            "_dom_classes": [],
            "description": "",
            "_model_name": "HTMLModel",
            "placeholder": "​",
            "_view_module": "@jupyter-widgets/controls",
            "_model_module_version": "1.5.0",
            "value": " 150/0 [00:00&lt;00:00, 1580.95 examples/s]",
            "_view_count": null,
            "_view_module_version": "1.5.0",
            "description_tooltip": null,
            "_model_module": "@jupyter-widgets/controls",
            "layout": "IPY_MODEL_4072a13559aa4616ae96f434d5a2e97d"
          }
        },
        "45d87e11440746aab0e8ad82ead59986": {
          "model_module": "@jupyter-widgets/controls",
          "model_name": "ProgressStyleModel",
          "state": {
            "_view_name": "StyleView",
            "_model_name": "ProgressStyleModel",
            "description_width": "initial",
            "_view_module": "@jupyter-widgets/base",
            "_model_module_version": "1.5.0",
            "_view_count": null,
            "_view_module_version": "1.2.0",
            "bar_color": null,
            "_model_module": "@jupyter-widgets/controls"
          }
        },
        "25a21fff7103425883da633a5c422a49": {
          "model_module": "@jupyter-widgets/base",
          "model_name": "LayoutModel",
          "state": {
            "_view_name": "LayoutView",
            "grid_template_rows": null,
            "right": null,
            "justify_content": null,
            "_view_module": "@jupyter-widgets/base",
            "overflow": null,
            "_model_module_version": "1.2.0",
            "_view_count": null,
            "flex_flow": null,
            "width": null,
            "min_width": null,
            "border": null,
            "align_items": null,
            "bottom": null,
            "_model_module": "@jupyter-widgets/base",
            "top": null,
            "grid_column": null,
            "overflow_y": null,
            "overflow_x": null,
            "grid_auto_flow": null,
            "grid_area": null,
            "grid_template_columns": null,
            "flex": null,
            "_model_name": "LayoutModel",
            "justify_items": null,
            "grid_row": null,
            "max_height": null,
            "align_content": null,
            "visibility": null,
            "align_self": null,
            "height": null,
            "min_height": null,
            "padding": null,
            "grid_auto_rows": null,
            "grid_gap": null,
            "max_width": null,
            "order": null,
            "_view_module_version": "1.2.0",
            "grid_template_areas": null,
            "object_position": null,
            "object_fit": null,
            "grid_auto_columns": null,
            "margin": null,
            "display": null,
            "left": null
          }
        },
        "ed4b88156a854624b10be64df21b1aa4": {
          "model_module": "@jupyter-widgets/controls",
          "model_name": "DescriptionStyleModel",
          "state": {
            "_view_name": "StyleView",
            "_model_name": "DescriptionStyleModel",
            "description_width": "",
            "_view_module": "@jupyter-widgets/base",
            "_model_module_version": "1.5.0",
            "_view_count": null,
            "_view_module_version": "1.2.0",
            "_model_module": "@jupyter-widgets/controls"
          }
        },
        "4072a13559aa4616ae96f434d5a2e97d": {
          "model_module": "@jupyter-widgets/base",
          "model_name": "LayoutModel",
          "state": {
            "_view_name": "LayoutView",
            "grid_template_rows": null,
            "right": null,
            "justify_content": null,
            "_view_module": "@jupyter-widgets/base",
            "overflow": null,
            "_model_module_version": "1.2.0",
            "_view_count": null,
            "flex_flow": null,
            "width": null,
            "min_width": null,
            "border": null,
            "align_items": null,
            "bottom": null,
            "_model_module": "@jupyter-widgets/base",
            "top": null,
            "grid_column": null,
            "overflow_y": null,
            "overflow_x": null,
            "grid_auto_flow": null,
            "grid_area": null,
            "grid_template_columns": null,
            "flex": null,
            "_model_name": "LayoutModel",
            "justify_items": null,
            "grid_row": null,
            "max_height": null,
            "align_content": null,
            "visibility": null,
            "align_self": null,
            "height": null,
            "min_height": null,
            "padding": null,
            "grid_auto_rows": null,
            "grid_gap": null,
            "max_width": null,
            "order": null,
            "_view_module_version": "1.2.0",
            "grid_template_areas": null,
            "object_position": null,
            "object_fit": null,
            "grid_auto_columns": null,
            "margin": null,
            "display": null,
            "left": null
          }
        },
        "1dcbc9bf896146bab5880a623eea2116": {
          "model_module": "@jupyter-widgets/controls",
          "model_name": "HBoxModel",
          "state": {
            "_view_name": "HBoxView",
            "_dom_classes": [],
            "_model_name": "HBoxModel",
            "_view_module": "@jupyter-widgets/controls",
            "_model_module_version": "1.5.0",
            "_view_count": null,
            "_view_module_version": "1.5.0",
            "box_style": "",
            "layout": "IPY_MODEL_e9123adb2bc144c9bdc3cb4367c56aa8",
            "_model_module": "@jupyter-widgets/controls",
            "children": [
              "IPY_MODEL_4f9186f0d58c4c959b40783e8cc50f23",
              "IPY_MODEL_11723503bec34500b8a37bd5a786cc78"
            ]
          }
        },
        "e9123adb2bc144c9bdc3cb4367c56aa8": {
          "model_module": "@jupyter-widgets/base",
          "model_name": "LayoutModel",
          "state": {
            "_view_name": "LayoutView",
            "grid_template_rows": null,
            "right": null,
            "justify_content": null,
            "_view_module": "@jupyter-widgets/base",
            "overflow": null,
            "_model_module_version": "1.2.0",
            "_view_count": null,
            "flex_flow": null,
            "width": null,
            "min_width": null,
            "border": null,
            "align_items": null,
            "bottom": null,
            "_model_module": "@jupyter-widgets/base",
            "top": null,
            "grid_column": null,
            "overflow_y": null,
            "overflow_x": null,
            "grid_auto_flow": null,
            "grid_area": null,
            "grid_template_columns": null,
            "flex": null,
            "_model_name": "LayoutModel",
            "justify_items": null,
            "grid_row": null,
            "max_height": null,
            "align_content": null,
            "visibility": null,
            "align_self": null,
            "height": null,
            "min_height": null,
            "padding": null,
            "grid_auto_rows": null,
            "grid_gap": null,
            "max_width": null,
            "order": null,
            "_view_module_version": "1.2.0",
            "grid_template_areas": null,
            "object_position": null,
            "object_fit": null,
            "grid_auto_columns": null,
            "margin": null,
            "display": null,
            "left": null
          }
        },
        "4f9186f0d58c4c959b40783e8cc50f23": {
          "model_module": "@jupyter-widgets/controls",
          "model_name": "FloatProgressModel",
          "state": {
            "_view_name": "ProgressView",
            "style": "IPY_MODEL_e74e2feee8174f6299b68fa028c97558",
            "_dom_classes": [],
            "description": "  0%",
            "_model_name": "FloatProgressModel",
            "bar_style": "danger",
            "max": 150,
            "_view_module": "@jupyter-widgets/controls",
            "_model_module_version": "1.5.0",
            "value": 0,
            "_view_count": null,
            "_view_module_version": "1.5.0",
            "orientation": "horizontal",
            "min": 0,
            "description_tooltip": null,
            "_model_module": "@jupyter-widgets/controls",
            "layout": "IPY_MODEL_48c3955208cb4dfdb56674fad6d95206"
          }
        },
        "11723503bec34500b8a37bd5a786cc78": {
          "model_module": "@jupyter-widgets/controls",
          "model_name": "HTMLModel",
          "state": {
            "_view_name": "HTMLView",
            "style": "IPY_MODEL_8865a79757cc49bf8700bb56249e1f1c",
            "_dom_classes": [],
            "description": "",
            "_model_name": "HTMLModel",
            "placeholder": "​",
            "_view_module": "@jupyter-widgets/controls",
            "_model_module_version": "1.5.0",
            "value": " 0/150 [00:00&lt;?, ? examples/s]",
            "_view_count": null,
            "_view_module_version": "1.5.0",
            "description_tooltip": null,
            "_model_module": "@jupyter-widgets/controls",
            "layout": "IPY_MODEL_9bb1c965a52144bf9ab7a256ec2bc76d"
          }
        },
        "e74e2feee8174f6299b68fa028c97558": {
          "model_module": "@jupyter-widgets/controls",
          "model_name": "ProgressStyleModel",
          "state": {
            "_view_name": "StyleView",
            "_model_name": "ProgressStyleModel",
            "description_width": "initial",
            "_view_module": "@jupyter-widgets/base",
            "_model_module_version": "1.5.0",
            "_view_count": null,
            "_view_module_version": "1.2.0",
            "bar_color": null,
            "_model_module": "@jupyter-widgets/controls"
          }
        },
        "48c3955208cb4dfdb56674fad6d95206": {
          "model_module": "@jupyter-widgets/base",
          "model_name": "LayoutModel",
          "state": {
            "_view_name": "LayoutView",
            "grid_template_rows": null,
            "right": null,
            "justify_content": null,
            "_view_module": "@jupyter-widgets/base",
            "overflow": null,
            "_model_module_version": "1.2.0",
            "_view_count": null,
            "flex_flow": null,
            "width": null,
            "min_width": null,
            "border": null,
            "align_items": null,
            "bottom": null,
            "_model_module": "@jupyter-widgets/base",
            "top": null,
            "grid_column": null,
            "overflow_y": null,
            "overflow_x": null,
            "grid_auto_flow": null,
            "grid_area": null,
            "grid_template_columns": null,
            "flex": null,
            "_model_name": "LayoutModel",
            "justify_items": null,
            "grid_row": null,
            "max_height": null,
            "align_content": null,
            "visibility": null,
            "align_self": null,
            "height": null,
            "min_height": null,
            "padding": null,
            "grid_auto_rows": null,
            "grid_gap": null,
            "max_width": null,
            "order": null,
            "_view_module_version": "1.2.0",
            "grid_template_areas": null,
            "object_position": null,
            "object_fit": null,
            "grid_auto_columns": null,
            "margin": null,
            "display": null,
            "left": null
          }
        },
        "8865a79757cc49bf8700bb56249e1f1c": {
          "model_module": "@jupyter-widgets/controls",
          "model_name": "DescriptionStyleModel",
          "state": {
            "_view_name": "StyleView",
            "_model_name": "DescriptionStyleModel",
            "description_width": "",
            "_view_module": "@jupyter-widgets/base",
            "_model_module_version": "1.5.0",
            "_view_count": null,
            "_view_module_version": "1.2.0",
            "_model_module": "@jupyter-widgets/controls"
          }
        },
        "9bb1c965a52144bf9ab7a256ec2bc76d": {
          "model_module": "@jupyter-widgets/base",
          "model_name": "LayoutModel",
          "state": {
            "_view_name": "LayoutView",
            "grid_template_rows": null,
            "right": null,
            "justify_content": null,
            "_view_module": "@jupyter-widgets/base",
            "overflow": null,
            "_model_module_version": "1.2.0",
            "_view_count": null,
            "flex_flow": null,
            "width": null,
            "min_width": null,
            "border": null,
            "align_items": null,
            "bottom": null,
            "_model_module": "@jupyter-widgets/base",
            "top": null,
            "grid_column": null,
            "overflow_y": null,
            "overflow_x": null,
            "grid_auto_flow": null,
            "grid_area": null,
            "grid_template_columns": null,
            "flex": null,
            "_model_name": "LayoutModel",
            "justify_items": null,
            "grid_row": null,
            "max_height": null,
            "align_content": null,
            "visibility": null,
            "align_self": null,
            "height": null,
            "min_height": null,
            "padding": null,
            "grid_auto_rows": null,
            "grid_gap": null,
            "max_width": null,
            "order": null,
            "_view_module_version": "1.2.0",
            "grid_template_areas": null,
            "object_position": null,
            "object_fit": null,
            "grid_auto_columns": null,
            "margin": null,
            "display": null,
            "left": null
          }
        }
      }
    }
  },
  "cells": [
    {
      "cell_type": "markdown",
      "metadata": {
        "id": "view-in-github",
        "colab_type": "text"
      },
      "source": [
        "<a href=\"https://colab.research.google.com/github/basselkassem/probabilistic-ml/blob/main/naive_bayes.ipynb\" target=\"_parent\"><img src=\"https://colab.research.google.com/assets/colab-badge.svg\" alt=\"Open In Colab\"/></a>"
      ]
    },
    {
      "cell_type": "code",
      "metadata": {
        "id": "D4CrgiBceTM5",
        "colab": {
          "base_uri": "https://localhost:8080/"
        },
        "outputId": "09004c86-8ff5-4298-c8f0-bcc40ee0db46"
      },
      "source": [
        "import numpy as np\n",
        "import tensorflow as tf\n",
        "import tensorflow_probability as tfp\n",
        "import matplotlib.pyplot as plt\n",
        "import tensorflow_datasets as tfds\n",
        "from sklearn.model_selection import train_test_split\n",
        "from sklearn.metrics import f1_score, accuracy_score\n",
        "\n",
        "\n",
        "tfd = tfp.distributions\n",
        "tfb = tfp.bijectors\n",
        "print(tf.__version__)\n",
        "print(tfp.__version__)"
      ],
      "execution_count": 1,
      "outputs": [
        {
          "output_type": "stream",
          "text": [
            "2.4.1\n",
            "0.12.1\n"
          ],
          "name": "stdout"
        }
      ]
    },
    {
      "cell_type": "markdown",
      "metadata": {
        "id": "SF9zpD7_5k1W"
      },
      "source": [
        "# Load Data"
      ]
    },
    {
      "cell_type": "code",
      "metadata": {
        "id": "vfx44bJmVbTz",
        "colab": {
          "base_uri": "https://localhost:8080/",
          "height": 232,
          "referenced_widgets": [
            "73c3cfe201b14c159fda4f20c82b96f5",
            "150b6c0cdce4456f8047c7272503def8",
            "640a116b1f7542d0b3beb863703b4923",
            "6bbe8e605271473d9e2a4eb14db9f0a2",
            "e0345d6d5534405aae6bb59f9122b730",
            "7a27ace319c54e74b62bcddadd5f4b54",
            "f1b6fb8941a542058e8de15904bada9c",
            "0649ac99c6e84e64aea1486e155fb470",
            "e243ee51bdd448909fa5e4025094587f",
            "6f4bc4310e3e4e278fc86ca9350e937f",
            "def708db1e9d4af28f586f6119bd91fd",
            "1245c196c7ff4470a088db2dbaac63ed",
            "a8df0c8e70df44199ceaa212fe8a66cf",
            "5fc1581813f441fb8289a63742512596",
            "d285d08c1ae747fc8b3a4bc76e4e898c",
            "87bc02fc163b44a89aac5d094960da7c",
            "fdc5c72aaa0f4dc0ad74876fc50c3201",
            "5f04c600eff546fc9570f4f70adee74e",
            "419f21adc5754ccca2498bdac77d7a7b",
            "3df92a107a49405ea52ff1701afc2857",
            "45d87e11440746aab0e8ad82ead59986",
            "25a21fff7103425883da633a5c422a49",
            "ed4b88156a854624b10be64df21b1aa4",
            "4072a13559aa4616ae96f434d5a2e97d",
            "1dcbc9bf896146bab5880a623eea2116",
            "e9123adb2bc144c9bdc3cb4367c56aa8",
            "4f9186f0d58c4c959b40783e8cc50f23",
            "11723503bec34500b8a37bd5a786cc78",
            "e74e2feee8174f6299b68fa028c97558",
            "48c3955208cb4dfdb56674fad6d95206",
            "8865a79757cc49bf8700bb56249e1f1c",
            "9bb1c965a52144bf9ab7a256ec2bc76d"
          ]
        },
        "outputId": "8b4ca73a-70fc-4075-84f8-756e35f461c6"
      },
      "source": [
        "data, info = tfds.load('iris', as_supervised = True, with_info = True, data_dir = 'data',)\n",
        "data_iter = data['train'].as_numpy_iterator()\n",
        "X_data, y_data = [], []\n",
        "for X, y in data_iter:\n",
        "  X_data.append(X)\n",
        "  y_data.append(y)\n",
        "\n",
        "X_train, X_test, y_train, y_test = train_test_split(\n",
        "    np.array(X_data), np.array(y_data), shuffle = True, stratify = y_data,\n",
        "    train_size = 0.8,\n",
        ")\n",
        "\n",
        "labels_num = len(np.unique(y_train))\n",
        "features_num = X_train.shape[-1]"
      ],
      "execution_count": 2,
      "outputs": [
        {
          "output_type": "stream",
          "text": [
            "\u001b[1mDownloading and preparing dataset iris/2.0.0 (download: 4.44 KiB, generated: Unknown size, total: 4.44 KiB) to data/iris/2.0.0...\u001b[0m\n"
          ],
          "name": "stdout"
        },
        {
          "output_type": "display_data",
          "data": {
            "application/vnd.jupyter.widget-view+json": {
              "model_id": "73c3cfe201b14c159fda4f20c82b96f5",
              "version_minor": 0,
              "version_major": 2
            },
            "text/plain": [
              "HBox(children=(FloatProgress(value=1.0, bar_style='info', description='Dl Completed...', max=1.0, style=Progre…"
            ]
          },
          "metadata": {
            "tags": []
          }
        },
        {
          "output_type": "display_data",
          "data": {
            "application/vnd.jupyter.widget-view+json": {
              "model_id": "e243ee51bdd448909fa5e4025094587f",
              "version_minor": 0,
              "version_major": 2
            },
            "text/plain": [
              "HBox(children=(FloatProgress(value=1.0, bar_style='info', description='Dl Size...', max=1.0, style=ProgressSty…"
            ]
          },
          "metadata": {
            "tags": []
          }
        },
        {
          "output_type": "stream",
          "text": [
            "\n",
            "\n",
            "\n",
            "\n"
          ],
          "name": "stdout"
        },
        {
          "output_type": "display_data",
          "data": {
            "application/vnd.jupyter.widget-view+json": {
              "model_id": "fdc5c72aaa0f4dc0ad74876fc50c3201",
              "version_minor": 0,
              "version_major": 2
            },
            "text/plain": [
              "HBox(children=(FloatProgress(value=1.0, bar_style='info', max=1.0), HTML(value='')))"
            ]
          },
          "metadata": {
            "tags": []
          }
        },
        {
          "output_type": "stream",
          "text": [
            "\rShuffling and writing examples to data/iris/2.0.0.incompleteIUX1MF/iris-train.tfrecord\n"
          ],
          "name": "stdout"
        },
        {
          "output_type": "display_data",
          "data": {
            "application/vnd.jupyter.widget-view+json": {
              "model_id": "1dcbc9bf896146bab5880a623eea2116",
              "version_minor": 0,
              "version_major": 2
            },
            "text/plain": [
              "HBox(children=(FloatProgress(value=0.0, max=150.0), HTML(value='')))"
            ]
          },
          "metadata": {
            "tags": []
          }
        },
        {
          "output_type": "stream",
          "text": [
            "\u001b[1mDataset iris downloaded and prepared to data/iris/2.0.0. Subsequent calls will reuse this data.\u001b[0m\n",
            "\r"
          ],
          "name": "stdout"
        }
      ]
    },
    {
      "cell_type": "code",
      "metadata": {
        "colab": {
          "base_uri": "https://localhost:8080/"
        },
        "id": "JrhMWZD0V2Hy",
        "outputId": "88b5bf9e-aef2-4201-8b51-d3a81379aef4"
      },
      "source": [
        "print('train:', X_train.shape, y_train.shape)\n",
        "print('test:', X_test.shape, y_test.shape)"
      ],
      "execution_count": 3,
      "outputs": [
        {
          "output_type": "stream",
          "text": [
            "train: (120, 4) (120,)\n",
            "test: (30, 4) (30,)\n"
          ],
          "name": "stdout"
        }
      ]
    },
    {
      "cell_type": "markdown",
      "metadata": {
        "id": "vnroirca5zG4"
      },
      "source": [
        "## Explore the data"
      ]
    },
    {
      "cell_type": "code",
      "metadata": {
        "colab": {
          "base_uri": "https://localhost:8080/",
          "height": 295
        },
        "id": "y5Li0VUUYiiy",
        "outputId": "5479e45b-ad15-4246-c7a1-624944f5a4de"
      },
      "source": [
        "ind2label = {0: 'Iris-Setosa', 1: 'Iris-Versicolour', 2: 'Iris-Virginica'}\n",
        "labels = ['Iris-Setosa', 'Iris-Versicolour','Iris-Virginica']\n",
        "colors = ['blue', 'orange', 'green']\n",
        "def plot_data(X, y):\n",
        "  for i in range(labels_num):\n",
        "    ids = np.where(y == i)\n",
        "    plt.scatter(X[ids, 0], X[ids, 1], color = colors[i], label = ind2label[i])\n",
        "  plt.xlabel('x1')\n",
        "  plt.ylabel('x2')\n",
        "  plt.title('Iris classes')\n",
        "  plt.legend()\n",
        "plot_data(X_train, y_train)"
      ],
      "execution_count": 4,
      "outputs": [
        {
          "output_type": "display_data",
          "data": {
            "image/png": "[encoded data removed]",
            "text/plain": [
              "<Figure size 432x288 with 1 Axes>"
            ]
          },
          "metadata": {
            "tags": [],
            "needs_background": "light"
          }
        }
      ]
    },
    {
      "cell_type": "markdown",
      "metadata": {
        "id": "6VWFpzta5cm0"
      },
      "source": [
        "# Fitting Naive-Bayes Model Manually"
      ]
    },
    {
      "cell_type": "markdown",
      "metadata": {
        "id": "PZpWaN4_52yS"
      },
      "source": [
        "## Prior"
      ]
    },
    {
      "cell_type": "code",
      "metadata": {
        "colab": {
          "base_uri": "https://localhost:8080/",
          "height": 281
        },
        "id": "dp0HLT__ZCJW",
        "outputId": "04ee0155-0bc8-48fe-f45c-0813cfc95516"
      },
      "source": [
        "def get_prior(y):\n",
        "  probs = [len(y[y == lbl]) / len(y) for lbl in range(labels_num)]\n",
        "  return  tfd.Categorical(probs = probs)\n",
        "\n",
        "prior = get_prior(y_train)\n",
        "\n",
        "plt.bar(range(labels_num), prior.prob(np.arange(labels_num)), color = colors)\n",
        "plt.xticks(np.arange(labels_num), [ind2label[i] for i in np.arange(labels_num)])\n",
        "plt.title('Prior distribution')\n",
        "plt.show()"
      ],
      "execution_count": 19,
      "outputs": [
        {
          "output_type": "display_data",
          "data": {
            "image/png": "[encoded data removed]",
            "text/plain": [
              "<Figure size 432x288 with 1 Axes>"
            ]
          },
          "metadata": {
            "tags": [],
            "needs_background": "light"
          }
        }
      ]
    },
    {
      "cell_type": "markdown",
      "metadata": {
        "id": "8tI19mzc55c0"
      },
      "source": [
        "## Likelihood"
      ]
    },
    {
      "cell_type": "code",
      "metadata": {
        "colab": {
          "base_uri": "https://localhost:8080/"
        },
        "id": "2MiCvcfJZBKm",
        "outputId": "c6da07a7-7c4a-4204-c72e-cf990afed318"
      },
      "source": [
        "def P_X_given_y(X, y, features_num = 2):\n",
        "  mus = np.zeros((labels_num, features_num))\n",
        "  stds = np.zeros((labels_num, features_num))\n",
        "  for label in range(labels_num):\n",
        "    ids = np.where(y == label)\n",
        "    X_given_y = np.squeeze(X[ids, 0:features_num])\n",
        "    mus[label] = np.mean(X_given_y, axis = 0,)\n",
        "    stds[label] = np.std(X_given_y, axis = 0,)\n",
        "  return tfd.MultivariateNormalDiag(loc = mus, scale_diag= stds )\n",
        "\n",
        "likelihood = P_X_given_y(X_train, y_train, features_num=features_num)\n",
        "likelihood"
      ],
      "execution_count": 20,
      "outputs": [
        {
          "output_type": "execute_result",
          "data": {
            "text/plain": [
              "<tfp.distributions.MultivariateNormalDiag 'MultivariateNormalDiag' batch_shape=[3] event_shape=[4] dtype=float64>"
            ]
          },
          "metadata": {
            "tags": []
          },
          "execution_count": 20
        }
      ]
    },
    {
      "cell_type": "markdown",
      "metadata": {
        "id": "czDqns-M5-gx"
      },
      "source": [
        "## Maximum the likelihood"
      ]
    },
    {
      "cell_type": "code",
      "metadata": {
        "colab": {
          "base_uri": "https://localhost:8080/",
          "height": 421
        },
        "id": "LBk_xaYl4a7C",
        "outputId": "64ab5bda-124b-4083-ca04-bafab90f4111"
      },
      "source": [
        "def get_meshgrid(x0_range, x1_range, samples_num):\n",
        "  x0 = np.linspace(x0_range[0], x0_range[1], samples_num)\n",
        "  x1 = np.linspace(x1_range[0], x1_range[1], samples_num)\n",
        "  return np.meshgrid(x0, x1)\n",
        "\n",
        "def draw_countor(prob_fn, batch_shape, x0_range, x1_range, samples_num = 100, levels = None):\n",
        "  xx, yy = get_meshgrid(x0_range, x1_range, samples_num)\n",
        "  Z = np.expand_dims(np.array([xx.ravel(), yy.ravel()]).T, 1)\n",
        "  Z =  prob_fn(Z)\n",
        "  Z = np.array(Z).T.reshape(batch_shape, *xx.shape)\n",
        "  for batch in range(batch_shape):\n",
        "    if levels is not None:\n",
        "      plt.contourf(xx, yy, Z[batch], levels = levels, colors=colors, alpha = 0.2)\n",
        "    else:\n",
        "      plt.contour(xx, yy, Z[batch], colors=colors[batch], alpha = 0.5,)\n",
        "\n",
        "plt.figure(figsize=(10, 6))\n",
        "x0_range = (X_train[:, 0].min(), X_train[:, 0].max())\n",
        "x1_range = (X_train[:, 1].min(), X_train[:, 1].max())\n",
        "plt.figure(figsize=(10, 6))\n",
        "plot_data(X_train, y_train)\n",
        "likelihood = P_X_given_y(X_train, y_train, features_num=2)\n",
        "draw_countor(likelihood.prob, 3, x0_range, x1_range,)\n",
        "plt.show()"
      ],
      "execution_count": 21,
      "outputs": [
        {
          "output_type": "display_data",
          "data": {
            "text/plain": [
              "<Figure size 720x432 with 0 Axes>"
            ]
          },
          "metadata": {
            "tags": []
          }
        },
        {
          "output_type": "display_data",
          "data": {
            "image/png": "[encoded data removed]",
            "text/plain": [
              "<Figure size 720x432 with 1 Axes>"
            ]
          },
          "metadata": {
            "tags": [],
            "needs_background": "light"
          }
        }
      ]
    },
    {
      "cell_type": "markdown",
      "metadata": {
        "id": "1d8hECqi6Dcf"
      },
      "source": [
        "## Test the model"
      ]
    },
    {
      "cell_type": "code",
      "metadata": {
        "id": "0oYodrhT2y2j"
      },
      "source": [
        "def predict(likelihood, prior, x):\n",
        "  if len(x.shape) > 1:\n",
        "    x_ = np.expand_dims(x, 1)\n",
        "  else:\n",
        "    x_ = np.expand_dims(x, 0)\n",
        "  prior_prob = tf.cast(prior.probs, tf.float64)\n",
        "  ll_porb = tf.cast(likelihood.prob(x_), tf.float64)\n",
        "  return np.argmax(ll_porb * prior_prob, axis = -1)"
      ],
      "execution_count": 109,
      "outputs": []
    },
    {
      "cell_type": "code",
      "metadata": {
        "colab": {
          "base_uri": "https://localhost:8080/"
        },
        "id": "ANLLatwdhkuE",
        "outputId": "06273a54-0b5f-44db-841f-ceab4d9c71ef"
      },
      "source": [
        "likelihood = P_X_given_y(X_train, y_train, features_num)\n",
        "yhat = predict(likelihood, prior, X_test[:, :features_num])\n",
        "print(f'Accuracy: {accuracy_score(y_test, yhat):.2}')\n",
        "print(f\"F1 Score: {f1_score(y_test, yhat, average = 'weighted'):.2}\")"
      ],
      "execution_count": 45,
      "outputs": [
        {
          "output_type": "stream",
          "text": [
            "Accuracy: 0.97\n",
            "F1 Score: 0.97\n"
          ],
          "name": "stdout"
        }
      ]
    },
    {
      "cell_type": "code",
      "metadata": {
        "colab": {
          "base_uri": "https://localhost:8080/",
          "height": 421
        },
        "id": "3Oop4WiK2tsV",
        "outputId": "ea680c75-7beb-4d39-8846-b0c2cadbb9a9"
      },
      "source": [
        "plt.figure(figsize=(10, 6))\n",
        "x0_range = (X_test[:, 0].min(), X_test[:, 0].max())\n",
        "x1_range = (X_test[:, 1].min(), X_test[:, 1].max())\n",
        "plt.figure(figsize=(10, 6))\n",
        "plot_data(X_test, y_test)\n",
        "likelihood = P_X_given_y(X_test, y_test, features_num=2)\n",
        "draw_countor(lambda x : predict(likelihood, prior, x), 1, x0_range, x1_range, levels = [-0.5, 0.5, 1.5, 2.5])\n",
        "plt.show()"
      ],
      "execution_count": 31,
      "outputs": [
        {
          "output_type": "display_data",
          "data": {
            "text/plain": [
              "<Figure size 720x432 with 0 Axes>"
            ]
          },
          "metadata": {
            "tags": []
          }
        },
        {
          "output_type": "display_data",
          "data": {
            "image/png": "[encoded data removed]",
            "text/plain": [
              "<Figure size 720x432 with 1 Axes>"
            ]
          },
          "metadata": {
            "tags": [],
            "needs_background": "light"
          }
        }
      ]
    },
    {
      "cell_type": "markdown",
      "metadata": {
        "id": "QKQLjWRC6Iqd"
      },
      "source": [
        "# Learning the Model"
      ]
    },
    {
      "cell_type": "code",
      "metadata": {
        "id": "7OWtgjje3t1j",
        "colab": {
          "base_uri": "https://localhost:8080/"
        },
        "outputId": "15580065-9cbb-4591-ca8f-39d903801309"
      },
      "source": [
        "prior = get_prior(y_train)\n",
        "prior"
      ],
      "execution_count": 53,
      "outputs": [
        {
          "output_type": "execute_result",
          "data": {
            "text/plain": [
              "<tfp.distributions.Categorical 'Categorical' batch_shape=[] event_shape=[] dtype=int32>"
            ]
          },
          "metadata": {
            "tags": []
          },
          "execution_count": 53
        }
      ]
    },
    {
      "cell_type": "code",
      "metadata": {
        "id": "f_Zx-gbf6g0T"
      },
      "source": [
        "def nll(dist, X):\n",
        "  return -tf.reduce_mean(dist.log_prob(X))\n",
        "\n",
        "@tf.function\n",
        "def get_grads_and_loss(dist, X):\n",
        "  with tf.GradientTape() as tape:\n",
        "    loss = nll(dist, X)\n",
        "  grads = tape.gradient(loss, dist.trainable_variables)\n",
        "  return grads, loss"
      ],
      "execution_count": 94,
      "outputs": []
    },
    {
      "cell_type": "code",
      "metadata": {
        "colab": {
          "base_uri": "https://localhost:8080/"
        },
        "id": "ZFlCSvPS9l3N",
        "outputId": "b1468a38-3399-449d-ec7c-9e8a92610e24"
      },
      "source": [
        "label_X = []\n",
        "mus = []\n",
        "stds = []\n",
        "util_dists = []\n",
        "\n",
        "for lbl in range(labels_num):\n",
        "  ids = np.where(y_train == lbl)\n",
        "  label_X.append(X_train[ids])\n",
        "  mus.append(tf.Variable(tf.zeros((features_num,))))\n",
        "  stds.append(tfp.util.TransformedVariable(tf.ones((features_num, )), tfb.Exp()))\n",
        "  util_dists.append(tfd.Normal(mus[lbl], stds[lbl]))\n",
        "\n",
        "for lbl in range(labels_num):\n",
        "  print('----------')\n",
        "  print('label:', ind2label[lbl])\n",
        "  print('----------')\n",
        "  opt = tf.keras.optimizers.Adam(0.01)\n",
        "  for epoch in range(3000):\n",
        "    grads, loss = get_grads_and_loss(util_dists[lbl], label_X[lbl])\n",
        "    opt.apply_gradients(zip(grads, util_dists[lbl].trainable_variables))\n",
        "    if epoch % 500 == 0:\n",
        "      print(f'Epoch {epoch}, Loss {loss:.3f}')\n",
        "\n",
        "\n",
        "temp_dist = tfd.Normal(mus, [std.numpy() for std in stds])\n",
        "trainable_likelihood = tfd.Independent(temp_dist, reinterpreted_batch_ndims = 1)"
      ],
      "execution_count": 143,
      "outputs": [
        {
          "output_type": "stream",
          "text": [
            "----------\n",
            "label: Iris-Setosa\n",
            "----------\n",
            "Epoch 0, Loss 5.798\n",
            "Epoch 500, Loss 0.740\n",
            "Epoch 1000, Loss 0.271\n",
            "Epoch 1500, Loss -0.078\n",
            "Epoch 2000, Loss -0.094\n",
            "Epoch 2500, Loss -0.094\n",
            "----------\n",
            "label: Iris-Versicolour\n",
            "----------\n",
            "Epoch 0, Loss 8.870\n",
            "Epoch 500, Loss 1.350\n",
            "Epoch 1000, Loss 0.876\n",
            "Epoch 1500, Loss 0.589\n",
            "Epoch 2000, Loss 0.360\n",
            "Epoch 2500, Loss 0.357\n",
            "----------\n",
            "label: Iris-Virginica\n",
            "----------\n",
            "Epoch 0, Loss 12.161\n",
            "Epoch 500, Loss 1.690\n",
            "Epoch 1000, Loss 1.374\n",
            "Epoch 1500, Loss 1.005\n",
            "Epoch 2000, Loss 0.650\n",
            "Epoch 2500, Loss 0.573\n"
          ],
          "name": "stdout"
        }
      ]
    },
    {
      "cell_type": "code",
      "metadata": {
        "colab": {
          "base_uri": "https://localhost:8080/"
        },
        "id": "TcHP3_9M90II",
        "outputId": "9ac1f5f0-37da-4930-8829-23c888ad4f17"
      },
      "source": [
        "yhat = predict(trainable_likelihood, prior, X_test[:, :features_num])\n",
        "print(f'Accuracy: {accuracy_score(y_test, yhat):.2}')\n",
        "print(f\"F1 Score: {f1_score(y_test, yhat, average = 'weighted'):.2}\")"
      ],
      "execution_count": 144,
      "outputs": [
        {
          "output_type": "stream",
          "text": [
            "Accuracy: 0.97\n",
            "F1 Score: 0.97\n"
          ],
          "name": "stdout"
        }
      ]
    },
    {
      "cell_type": "code",
      "metadata": {
        "colab": {
          "base_uri": "https://localhost:8080/"
        },
        "id": "t9xb1mbFDzX1",
        "outputId": "9e28490d-d148-4ae0-8451-9e9eb2fe3735"
      },
      "source": [
        "trainable_mean = trainable_likelihood.mean().numpy()\n",
        "trainable_cov = trainable_likelihood.stddev().numpy()\n",
        "\n",
        "mean = likelihood.mean().numpy()\n",
        "cov = likelihood.stddev().numpy()\n",
        "\n",
        "print(f'Mean estimation error: {np.linalg.norm(trainable_mean - mean):.6f}')\n",
        "print(f'Coveriance estimation error: {np.linalg.norm(trainable_cov - cov):.6f}')\n"
      ],
      "execution_count": 145,
      "outputs": [
        {
          "output_type": "stream",
          "text": [
            "Mean estimation error: 0.000004\n",
            "Coveriance estimation error: 0.000033\n"
          ],
          "name": "stdout"
        }
      ]
    },
    {
      "cell_type": "code",
      "metadata": {
        "id": "a-ggKFiGGMCY"
      },
      "source": [
        ""
      ],
      "execution_count": null,
      "outputs": []
    }
  ]
}